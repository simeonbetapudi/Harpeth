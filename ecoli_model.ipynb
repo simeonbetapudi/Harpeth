{
  "nbformat": 4,
  "nbformat_minor": 0,
  "metadata": {
    "colab": {
      "provenance": [],
      "authorship_tag": "ABX9TyPVyqPlY1kLA3EWCAeSLVNg",
      "include_colab_link": true
    },
    "kernelspec": {
      "name": "python3",
      "display_name": "Python 3"
    },
    "language_info": {
      "name": "python"
    }
  },
  "cells": [
    {
      "cell_type": "markdown",
      "metadata": {
        "id": "view-in-github",
        "colab_type": "text"
      },
      "source": [
        "<a href=\"https://colab.research.google.com/github/simeonbetapudi/Harpeth/blob/main/ecoli_model.ipynb\" target=\"_parent\"><img src=\"https://colab.research.google.com/assets/colab-badge.svg\" alt=\"Open In Colab\"/></a>"
      ]
    },
    {
      "cell_type": "code",
      "source": [
        "!pip install netCDF4\n",
        "!pip install wget\n",
        "!pip install pyproj"
      ],
      "metadata": {
        "colab": {
          "base_uri": "https://localhost:8080/"
        },
        "id": "laSZedry7WQJ",
        "outputId": "868573f4-d171-4265-f3bb-3a0ac0efc963"
      },
      "execution_count": null,
      "outputs": [
        {
          "output_type": "stream",
          "name": "stdout",
          "text": [
            "Collecting netCDF4\n",
            "  Using cached netCDF4-1.6.4-cp310-cp310-manylinux_2_17_x86_64.manylinux2014_x86_64.whl (5.4 MB)\n",
            "Collecting cftime (from netCDF4)\n",
            "  Using cached cftime-1.6.2-cp310-cp310-manylinux_2_17_x86_64.manylinux2014_x86_64.whl (1.2 MB)\n",
            "Requirement already satisfied: certifi in /usr/local/lib/python3.10/dist-packages (from netCDF4) (2023.7.22)\n",
            "Requirement already satisfied: numpy in /usr/local/lib/python3.10/dist-packages (from netCDF4) (1.23.5)\n",
            "Installing collected packages: cftime, netCDF4\n",
            "Successfully installed cftime-1.6.2 netCDF4-1.6.4\n",
            "Collecting wget\n",
            "  Downloading wget-3.2.zip (10 kB)\n",
            "  Preparing metadata (setup.py) ... \u001b[?25l\u001b[?25hdone\n",
            "Building wheels for collected packages: wget\n",
            "  Building wheel for wget (setup.py) ... \u001b[?25l\u001b[?25hdone\n",
            "  Created wheel for wget: filename=wget-3.2-py3-none-any.whl size=9655 sha256=cd7fa6d84f6d2652def034290520c210a6ff186b567404499a19b9633a83a40d\n",
            "  Stored in directory: /root/.cache/pip/wheels/8b/f1/7f/5c94f0a7a505ca1c81cd1d9208ae2064675d97582078e6c769\n",
            "Successfully built wget\n",
            "Installing collected packages: wget\n",
            "Successfully installed wget-3.2\n",
            "Requirement already satisfied: pyproj in /usr/local/lib/python3.10/dist-packages (3.6.0)\n",
            "Requirement already satisfied: certifi in /usr/local/lib/python3.10/dist-packages (from pyproj) (2023.7.22)\n"
          ]
        }
      ]
    },
    {
      "cell_type": "code",
      "source": [
        "import json\n",
        "import pandas as pd\n",
        "import requests\n",
        "import numpy as np\n",
        "from os import replace\n",
        "import datetime\n",
        "from datetime import datetime, timedelta\n",
        "import math\n",
        "import netCDF4 as nc\n",
        "import wget\n",
        "import pytz"
      ],
      "metadata": {
        "id": "gtfyEEGxXHRR"
      },
      "execution_count": null,
      "outputs": []
    },
    {
      "cell_type": "code",
      "source": [
        "time = datetime.now(pytz.timezone('US/Central'))\n",
        "\n",
        "month = time.month\n",
        "year = time.year\n",
        "day = time.day\n",
        "\n",
        "mm = time.strftime('%m')\n",
        "dd = time.strftime('%d')\n",
        "stime = time.strftime('%Y%m%d')\n",
        "\n",
        "weekago_month = (time - timedelta(days=7)).month\n",
        "weekago_year = (time - timedelta(days=7)).year\n",
        "weekago_day = (time - timedelta(days=7)).day\n",
        "\n",
        "day_of_year = time.timetuple().tm_yday\n",
        "B = 0.01721420632\n",
        "C = 81.75\n",
        "sindoy = math.sin(B * (day_of_year) - C)\n",
        "sindoy_list = [sindoy]*8"
      ],
      "metadata": {
        "id": "QFU8hbqyh9gj"
      },
      "execution_count": null,
      "outputs": []
    },
    {
      "cell_type": "markdown",
      "source": [
        "Pulling precipitation data for each day from NWS."
      ],
      "metadata": {
        "id": "0ryQv4u1hzWf"
      }
    },
    {
      "cell_type": "code",
      "source": [
        "def get_dataset(url):\n",
        "  retrieved_file = wget.download(url)\n",
        "  dataset = nc.Dataset(retrieved_file)\n",
        "  return dataset\n",
        "\n",
        "def get_time(url):\n",
        "  dataset = get_dataset(url)\n",
        "  time_array = dataset['time'][:].toflex()\n",
        "  time = time_array['_data'][()]\n",
        "  datetime_obj = datetime.fromtimestamp(time)\n",
        "  return datetime_obj.isoformat()\n",
        "\n",
        "def create_prcp_array(dataset):\n",
        "  prcp_array = dataset['observation'][473:487, 789:796]\n",
        "  prcp_array = prcp_array.toflex()\n",
        "  return prcp_array\n",
        "\n",
        "def get_prcp(array):\n",
        "  prcp = []\n",
        "  xcrsfordf = []\n",
        "  ycrsfordf = []\n",
        "  for i in range (0, 14):\n",
        "    for n in range (0, 7):\n",
        "     prcp.append(array[i]['_data'][n])\n",
        "     xcrsfordf.append(789 + n)\n",
        "     ycrsfordf.append(473 + i)\n",
        "  return prcp, xcrsfordf, ycrsfordf\n",
        "\n",
        "def create_df(prcp, xcrsfordf, ycrsfordf):\n",
        "  df = pd.DataFrame()\n",
        "  df['Precipitation'] = prcp\n",
        "  df['X-coordinates'] = xcrsfordf\n",
        "  df['Y-coordinates'] = ycrsfordf\n",
        "  return df\n",
        "\n",
        "def find_prcp(dataframe, xcrs, ycrs):\n",
        "  prcp_list = []\n",
        "  for (a,b) in zip(xcrs, ycrs):\n",
        "    value = dataframe.loc[dataframe['X-coordinates'].eq(a) & dataframe['Y-coordinates'].eq(b), 'Precipitation']\n",
        "    prcp_value = value.values[0]\n",
        "    prcp_list.append(prcp_value)\n",
        "  return prcp_list\n",
        "\n",
        "def pull_prcp(url, xcrs, ycrs):\n",
        "  dataset = get_dataset(url)\n",
        "  prcparray = create_prcp_array(dataset)\n",
        "  prcp_info = get_prcp(prcparray)\n",
        "  df = create_df(prcp_info[0], prcp_info[1], prcp_info[2])\n",
        "  prcp_list = find_prcp(df, xcrs, ycrs)\n",
        "  return prcp_list"
      ],
      "metadata": {
        "id": "8AuyxP4nBR9-"
      },
      "execution_count": null,
      "outputs": []
    },
    {
      "cell_type": "code",
      "source": [
        "prcp_urls = ['https://water.weather.gov/precip/downloads/{}/{}/{}/nws_precip_1day_{}_conus.nc'.format(year, mm, dd, stime),\n",
        "        'https://water.weather.gov/precip/downloads/{}/{}/{}/nws_precip_last2days_{}_conus.nc'.format(year, mm, dd, stime),\n",
        "        'https://water.weather.gov/precip/downloads/{}/{}/{}/nws_precip_last3days_{}_conus.nc'.format(year, mm, dd, stime),\n",
        "        'https://water.weather.gov/precip/downloads/{}/{}/{}/nws_precip_last5days_{}_conus.nc'.format(year, mm, dd, stime),\n",
        "        'https://water.weather.gov/precip/downloads/{}/{}/{}/nws_precip_last7days_{}_conus.nc'.format(year, mm, dd, stime)]\n",
        "\n",
        "xcrs = [792, 789, 792, 795, 795, 792, 792, 793]\n",
        "ycrs = [484, 486, 479, 486, 476, 482, 478, 473]"
      ],
      "metadata": {
        "id": "ZYRp7K1uX0Sj"
      },
      "execution_count": null,
      "outputs": []
    },
    {
      "cell_type": "code",
      "source": [
        "prcp_lists = []\n",
        "\n",
        "for x in prcp_urls:\n",
        "   prcp_list = pull_prcp(x, xcrs, ycrs)\n",
        "   prcp_lists.append(prcp_list)\n",
        "\n",
        "onedayprcp_list = prcp_lists[0]\n",
        "twodayprcp_list = prcp_lists[1]\n",
        "threedayprcp_list = prcp_lists[2]\n",
        "fivedayprcp_list = prcp_lists[3]\n",
        "weekprcp_list = prcp_lists[4]\n",
        "#timestamp = get_time(urls[0])"
      ],
      "metadata": {
        "id": "eEpZibgSW46G"
      },
      "execution_count": null,
      "outputs": []
    },
    {
      "cell_type": "code",
      "source": [
        "print(onedayprcp_list)\n",
        "print(twodayprcp_list)\n",
        "print(threedayprcp_list)\n",
        "print(fivedayprcp_list)\n",
        "print(weekprcp_list)\n",
        "#print(timestamp)"
      ],
      "metadata": {
        "colab": {
          "base_uri": "https://localhost:8080/"
        },
        "id": "7hJLnpL48Dmx",
        "outputId": "3d02b771-6711-402e-a92b-b9d50d573487"
      },
      "execution_count": null,
      "outputs": [
        {
          "output_type": "stream",
          "name": "stdout",
          "text": [
            "[0.0, 0.0, 0.0, 0.0, 0.0, 0.0, 0.0, 0.0]\n",
            "[0.0, 0.0, 0.0, 0.0, 0.0, 0.0, 0.0, 0.0]\n",
            "[0.0, 0.0, 0.0, 0.0, 0.0, 0.0, 0.0, 0.0]\n",
            "[0.0, 0.0, 0.0, 0.0, 0.0, 0.0, 0.0, 0.0]\n",
            "[0.0, 0.0, 0.0, 0.0, 0.0, 0.0, 0.0, 0.0]\n"
          ]
        }
      ]
    },
    {
      "cell_type": "markdown",
      "source": [
        "Pulling temperature data from NWS's API."
      ],
      "metadata": {
        "id": "w2Rqb8Bxh8p_"
      }
    },
    {
      "cell_type": "code",
      "source": [
        "def get_temp_dict(url):\n",
        "  request = (requests.get(url).text)\n",
        "  temp_dict = json.loads(request)\n",
        "  temp_dict = temp_dict['properties']['periods'][0]\n",
        "  return temp_dict\n",
        "\n",
        "def get_temp_df(temp_dict):\n",
        "  temp_df = pd.DataFrame.from_dict(temp_dict)\n",
        "  temp_df = temp_df[['temperature', 'probabilityOfPrecipitation','windSpeed', 'windDirection']]\n",
        "  temp_df.columns = ['temperature', 'precipitation', 'windSpeed', 'windDirection']\n",
        "  return temp_df\n",
        "\n",
        "def get_temp_forecast(temp_df):\n",
        "  temp_df['temperature'] = temp_df['temperature'].astype(str).astype(int)\n",
        "  temp_forecast = temp_df['temperature'][1]\n",
        "  return temp_forecast\n",
        "\n",
        "def pull_temp(url):\n",
        "  temp_dict = get_temp_dict(url)\n",
        "  temp_df = get_temp_df(temp_dict)\n",
        "  temp_forecast = get_temp_forecast(temp_df)\n",
        "  return temp_forecast"
      ],
      "metadata": {
        "id": "91ykaEMr8tZD"
      },
      "execution_count": null,
      "outputs": []
    },
    {
      "cell_type": "code",
      "source": [
        "OHX_values = ['45,52', '39,54', '47,54', '48,45', '54,51', '48,55', '52,55', '46,50']\n",
        "\n",
        "temp_urls = []\n",
        "\n",
        "for x in OHX_values:\n",
        "  temp_urls.append(\"https://api.weather.gov/gridpoints/OHX/{}/forecast\".format(x))"
      ],
      "metadata": {
        "id": "8PbYtK1p83FO"
      },
      "execution_count": null,
      "outputs": []
    },
    {
      "cell_type": "code",
      "source": [
        "temp_list = []\n",
        "\n",
        "for x in temp_urls:\n",
        "  temp_forecast = pull_temp(x)\n",
        "  temp_list.append(temp_forecast)\n",
        "\n",
        "print(temp_list)"
      ],
      "metadata": {
        "colab": {
          "base_uri": "https://localhost:8080/"
        },
        "id": "laongSbDC9yx",
        "outputId": "98e96698-2208-4469-b00a-d3030aaa78c3"
      },
      "execution_count": null,
      "outputs": [
        {
          "output_type": "stream",
          "name": "stdout",
          "text": [
            "[97, 97, 98, 96, 96, 99, 98, 96]\n"
          ]
        }
      ]
    },
    {
      "cell_type": "markdown",
      "source": [
        "Pulling Flow Data from USGS."
      ],
      "metadata": {
        "id": "Tfyzdk06iQIu"
      }
    },
    {
      "cell_type": "code",
      "source": [
        "flow_sites = ['03431700', '03433500', '03434500', '03432350', '03431060', '03434500', '03431700', '03431060']\n",
        "\n",
        "flow_urls = []\n",
        "\n",
        "for x in flow_sites:\n",
        "  flow_urls.append(\"https://waterservices.usgs.gov/nwis/iv/?format=json&sites={}&startDT={}-{}-{}T04:00-0500&endDT={}-{}-{}T05:00-0500&parameterCd=00060&siteStatus=all\".format(x, year, month, day, year, month, day).format(x))"
      ],
      "metadata": {
        "id": "OGKd7yzqExuG"
      },
      "execution_count": null,
      "outputs": []
    },
    {
      "cell_type": "code",
      "source": [
        "def pull_floworgage(url):\n",
        "  data = json.loads(requests.get(url).text)\n",
        "  data = data['value']['timeSeries'][0]['values'][0]['value']\n",
        "  df = pd.DataFrame.from_dict(data)\n",
        "  df['value'] = df['value'].astype(str).astype(float)\n",
        "  floworgage = df['value'].mean()\n",
        "  return floworgage"
      ],
      "metadata": {
        "id": "mikpkcNaF_Wv"
      },
      "execution_count": null,
      "outputs": []
    },
    {
      "cell_type": "code",
      "source": [
        "flow_list = []\n",
        "\n",
        "for x in flow_urls:\n",
        "  flow = pull_floworgage(x)\n",
        "  flow_list.append(flow)\n",
        "\n",
        "print(flow_list)"
      ],
      "metadata": {
        "colab": {
          "base_uri": "https://localhost:8080/"
        },
        "id": "9HJEnhZFJGaP",
        "outputId": "15261466-18c6-4b9d-facc-5f909fde6e11"
      },
      "execution_count": null,
      "outputs": [
        {
          "output_type": "stream",
          "name": "stdout",
          "text": [
            "[8.02, 157.0, 244.0, 38.6, 25.32, 244.0, 8.02, 25.32]\n"
          ]
        }
      ]
    },
    {
      "cell_type": "markdown",
      "source": [
        "Gage Height"
      ],
      "metadata": {
        "id": "Y6Fd6sez4-7r"
      }
    },
    {
      "cell_type": "code",
      "source": [
        "gage_sites = ['03431700', '03433500', '03434500', '03432350', '03431060', '03434500', '03431700', '03431060']\n",
        "\n",
        "gage_urls = []\n",
        "\n",
        "for x in gage_sites:\n",
        "  gage_urls.append(\"https://waterservices.usgs.gov/nwis/iv/?format=json&sites={}&startDT={}-{}-{}T04:00-0500&endDT={}-{}-{}T05:00-0500&parameterCd=00065&siteStatus=all\".format(x, year, month, day, year, month, day).format(x))"
      ],
      "metadata": {
        "id": "rCuFumotJpV6"
      },
      "execution_count": null,
      "outputs": []
    },
    {
      "cell_type": "code",
      "source": [
        "gage_list = []\n",
        "\n",
        "for x in gage_urls:\n",
        "  gage = pull_floworgage(x)\n",
        "  gage_list.append(gage)\n",
        "\n",
        "print(gage_list)"
      ],
      "metadata": {
        "colab": {
          "base_uri": "https://localhost:8080/"
        },
        "id": "emzBASTkKPpV",
        "outputId": "0bd42ee3-e7d6-4a74-8a02-07b06d2619dd"
      },
      "execution_count": null,
      "outputs": [
        {
          "output_type": "stream",
          "name": "stdout",
          "text": [
            "[0.7, 1.67, 1.633333333333333, 3.79, 2.564, 1.633333333333333, 0.7, 2.564]\n"
          ]
        }
      ]
    },
    {
      "cell_type": "markdown",
      "source": [
        "Creating a DataFrame of Forecast Values"
      ],
      "metadata": {
        "id": "nGkxbsYyXIvP"
      }
    },
    {
      "cell_type": "code",
      "source": [
        "column_names = ['temp', 'onedayprcp', 'twodayprcp', 'threedayprcp', 'fivedayprcp', 'weekprcp', 'flow', 'gage', 'sin(dayofyear)']"
      ],
      "metadata": {
        "id": "lX7CN2q7XQxb"
      },
      "execution_count": null,
      "outputs": []
    },
    {
      "cell_type": "code",
      "source": [
        "index_names = ['Hwy100', 'Hwy70', 'JBlvd', 'LPike', 'MCreek', 'MBridge', 'RCreek', 'WPark']"
      ],
      "metadata": {
        "id": "B6JPshU3riOj"
      },
      "execution_count": null,
      "outputs": []
    },
    {
      "cell_type": "code",
      "source": [
        "forecast_df = pd.DataFrame(list(zip(temp_list, onedayprcp_list, twodayprcp_list, threedayprcp_list, fivedayprcp_list, weekprcp_list, flow_list, gage_list, sindoy_list)), index = index_names, columns = column_names)"
      ],
      "metadata": {
        "id": "znBH73GyohKf"
      },
      "execution_count": null,
      "outputs": []
    },
    {
      "cell_type": "code",
      "source": [
        "forecast_df"
      ],
      "metadata": {
        "colab": {
          "base_uri": "https://localhost:8080/",
          "height": 300
        },
        "id": "ItlEK5UsBUZu",
        "outputId": "44e8efc5-9a3f-46a8-a3fb-c3fde6e4c9e3"
      },
      "execution_count": null,
      "outputs": [
        {
          "output_type": "execute_result",
          "data": {
            "text/plain": [
              "         temp  onedayprcp  twodayprcp  threedayprcp  fivedayprcp  weekprcp  \\\n",
              "Hwy100     97         0.0         0.0           0.0          0.0       0.0   \n",
              "Hwy70      97         0.0         0.0           0.0          0.0       0.0   \n",
              "JBlvd      98         0.0         0.0           0.0          0.0       0.0   \n",
              "LPike      96         0.0         0.0           0.0          0.0       0.0   \n",
              "MCreek     96         0.0         0.0           0.0          0.0       0.0   \n",
              "MBridge    99         0.0         0.0           0.0          0.0       0.0   \n",
              "RCreek     98         0.0         0.0           0.0          0.0       0.0   \n",
              "WPark      96         0.0         0.0           0.0          0.0       0.0   \n",
              "\n",
              "           flow      gage  sin(dayofyear)  \n",
              "Hwy100     8.02  0.700000         -0.7414  \n",
              "Hwy70    157.00  1.670000         -0.7414  \n",
              "JBlvd    244.00  1.633333         -0.7414  \n",
              "LPike     38.60  3.790000         -0.7414  \n",
              "MCreek    25.32  2.564000         -0.7414  \n",
              "MBridge  244.00  1.633333         -0.7414  \n",
              "RCreek     8.02  0.700000         -0.7414  \n",
              "WPark     25.32  2.564000         -0.7414  "
            ],
            "text/html": [
              "\n",
              "  <div id=\"df-41f06057-66a2-4c9d-aa81-8fb88ddadf58\" class=\"colab-df-container\">\n",
              "    <div>\n",
              "<style scoped>\n",
              "    .dataframe tbody tr th:only-of-type {\n",
              "        vertical-align: middle;\n",
              "    }\n",
              "\n",
              "    .dataframe tbody tr th {\n",
              "        vertical-align: top;\n",
              "    }\n",
              "\n",
              "    .dataframe thead th {\n",
              "        text-align: right;\n",
              "    }\n",
              "</style>\n",
              "<table border=\"1\" class=\"dataframe\">\n",
              "  <thead>\n",
              "    <tr style=\"text-align: right;\">\n",
              "      <th></th>\n",
              "      <th>temp</th>\n",
              "      <th>onedayprcp</th>\n",
              "      <th>twodayprcp</th>\n",
              "      <th>threedayprcp</th>\n",
              "      <th>fivedayprcp</th>\n",
              "      <th>weekprcp</th>\n",
              "      <th>flow</th>\n",
              "      <th>gage</th>\n",
              "      <th>sin(dayofyear)</th>\n",
              "    </tr>\n",
              "  </thead>\n",
              "  <tbody>\n",
              "    <tr>\n",
              "      <th>Hwy100</th>\n",
              "      <td>97</td>\n",
              "      <td>0.0</td>\n",
              "      <td>0.0</td>\n",
              "      <td>0.0</td>\n",
              "      <td>0.0</td>\n",
              "      <td>0.0</td>\n",
              "      <td>8.02</td>\n",
              "      <td>0.700000</td>\n",
              "      <td>-0.7414</td>\n",
              "    </tr>\n",
              "    <tr>\n",
              "      <th>Hwy70</th>\n",
              "      <td>97</td>\n",
              "      <td>0.0</td>\n",
              "      <td>0.0</td>\n",
              "      <td>0.0</td>\n",
              "      <td>0.0</td>\n",
              "      <td>0.0</td>\n",
              "      <td>157.00</td>\n",
              "      <td>1.670000</td>\n",
              "      <td>-0.7414</td>\n",
              "    </tr>\n",
              "    <tr>\n",
              "      <th>JBlvd</th>\n",
              "      <td>98</td>\n",
              "      <td>0.0</td>\n",
              "      <td>0.0</td>\n",
              "      <td>0.0</td>\n",
              "      <td>0.0</td>\n",
              "      <td>0.0</td>\n",
              "      <td>244.00</td>\n",
              "      <td>1.633333</td>\n",
              "      <td>-0.7414</td>\n",
              "    </tr>\n",
              "    <tr>\n",
              "      <th>LPike</th>\n",
              "      <td>96</td>\n",
              "      <td>0.0</td>\n",
              "      <td>0.0</td>\n",
              "      <td>0.0</td>\n",
              "      <td>0.0</td>\n",
              "      <td>0.0</td>\n",
              "      <td>38.60</td>\n",
              "      <td>3.790000</td>\n",
              "      <td>-0.7414</td>\n",
              "    </tr>\n",
              "    <tr>\n",
              "      <th>MCreek</th>\n",
              "      <td>96</td>\n",
              "      <td>0.0</td>\n",
              "      <td>0.0</td>\n",
              "      <td>0.0</td>\n",
              "      <td>0.0</td>\n",
              "      <td>0.0</td>\n",
              "      <td>25.32</td>\n",
              "      <td>2.564000</td>\n",
              "      <td>-0.7414</td>\n",
              "    </tr>\n",
              "    <tr>\n",
              "      <th>MBridge</th>\n",
              "      <td>99</td>\n",
              "      <td>0.0</td>\n",
              "      <td>0.0</td>\n",
              "      <td>0.0</td>\n",
              "      <td>0.0</td>\n",
              "      <td>0.0</td>\n",
              "      <td>244.00</td>\n",
              "      <td>1.633333</td>\n",
              "      <td>-0.7414</td>\n",
              "    </tr>\n",
              "    <tr>\n",
              "      <th>RCreek</th>\n",
              "      <td>98</td>\n",
              "      <td>0.0</td>\n",
              "      <td>0.0</td>\n",
              "      <td>0.0</td>\n",
              "      <td>0.0</td>\n",
              "      <td>0.0</td>\n",
              "      <td>8.02</td>\n",
              "      <td>0.700000</td>\n",
              "      <td>-0.7414</td>\n",
              "    </tr>\n",
              "    <tr>\n",
              "      <th>WPark</th>\n",
              "      <td>96</td>\n",
              "      <td>0.0</td>\n",
              "      <td>0.0</td>\n",
              "      <td>0.0</td>\n",
              "      <td>0.0</td>\n",
              "      <td>0.0</td>\n",
              "      <td>25.32</td>\n",
              "      <td>2.564000</td>\n",
              "      <td>-0.7414</td>\n",
              "    </tr>\n",
              "  </tbody>\n",
              "</table>\n",
              "</div>\n",
              "    <div class=\"colab-df-buttons\">\n",
              "\n",
              "  <div class=\"colab-df-container\">\n",
              "    <button class=\"colab-df-convert\" onclick=\"convertToInteractive('df-41f06057-66a2-4c9d-aa81-8fb88ddadf58')\"\n",
              "            title=\"Convert this dataframe to an interactive table.\"\n",
              "            style=\"display:none;\">\n",
              "\n",
              "  <svg xmlns=\"http://www.w3.org/2000/svg\" height=\"24px\" viewBox=\"0 -960 960 960\">\n",
              "    <path d=\"M120-120v-720h720v720H120Zm60-500h600v-160H180v160Zm220 220h160v-160H400v160Zm0 220h160v-160H400v160ZM180-400h160v-160H180v160Zm440 0h160v-160H620v160ZM180-180h160v-160H180v160Zm440 0h160v-160H620v160Z\"/>\n",
              "  </svg>\n",
              "    </button>\n",
              "\n",
              "  <style>\n",
              "    .colab-df-container {\n",
              "      display:flex;\n",
              "      gap: 12px;\n",
              "    }\n",
              "\n",
              "    .colab-df-convert {\n",
              "      background-color: #E8F0FE;\n",
              "      border: none;\n",
              "      border-radius: 50%;\n",
              "      cursor: pointer;\n",
              "      display: none;\n",
              "      fill: #1967D2;\n",
              "      height: 32px;\n",
              "      padding: 0 0 0 0;\n",
              "      width: 32px;\n",
              "    }\n",
              "\n",
              "    .colab-df-convert:hover {\n",
              "      background-color: #E2EBFA;\n",
              "      box-shadow: 0px 1px 2px rgba(60, 64, 67, 0.3), 0px 1px 3px 1px rgba(60, 64, 67, 0.15);\n",
              "      fill: #174EA6;\n",
              "    }\n",
              "\n",
              "    .colab-df-buttons div {\n",
              "      margin-bottom: 4px;\n",
              "    }\n",
              "\n",
              "    [theme=dark] .colab-df-convert {\n",
              "      background-color: #3B4455;\n",
              "      fill: #D2E3FC;\n",
              "    }\n",
              "\n",
              "    [theme=dark] .colab-df-convert:hover {\n",
              "      background-color: #434B5C;\n",
              "      box-shadow: 0px 1px 3px 1px rgba(0, 0, 0, 0.15);\n",
              "      filter: drop-shadow(0px 1px 2px rgba(0, 0, 0, 0.3));\n",
              "      fill: #FFFFFF;\n",
              "    }\n",
              "  </style>\n",
              "\n",
              "    <script>\n",
              "      const buttonEl =\n",
              "        document.querySelector('#df-41f06057-66a2-4c9d-aa81-8fb88ddadf58 button.colab-df-convert');\n",
              "      buttonEl.style.display =\n",
              "        google.colab.kernel.accessAllowed ? 'block' : 'none';\n",
              "\n",
              "      async function convertToInteractive(key) {\n",
              "        const element = document.querySelector('#df-41f06057-66a2-4c9d-aa81-8fb88ddadf58');\n",
              "        const dataTable =\n",
              "          await google.colab.kernel.invokeFunction('convertToInteractive',\n",
              "                                                    [key], {});\n",
              "        if (!dataTable) return;\n",
              "\n",
              "        const docLinkHtml = 'Like what you see? Visit the ' +\n",
              "          '<a target=\"_blank\" href=https://colab.research.google.com/notebooks/data_table.ipynb>data table notebook</a>'\n",
              "          + ' to learn more about interactive tables.';\n",
              "        element.innerHTML = '';\n",
              "        dataTable['output_type'] = 'display_data';\n",
              "        await google.colab.output.renderOutput(dataTable, element);\n",
              "        const docLink = document.createElement('div');\n",
              "        docLink.innerHTML = docLinkHtml;\n",
              "        element.appendChild(docLink);\n",
              "      }\n",
              "    </script>\n",
              "  </div>\n",
              "\n",
              "\n",
              "<div id=\"df-d4ac48ac-2fd8-46fa-9913-2703ef97ea63\">\n",
              "  <button class=\"colab-df-quickchart\" onclick=\"quickchart('df-d4ac48ac-2fd8-46fa-9913-2703ef97ea63')\"\n",
              "            title=\"Suggest charts.\"\n",
              "            style=\"display:none;\">\n",
              "\n",
              "<svg xmlns=\"http://www.w3.org/2000/svg\" height=\"24px\"viewBox=\"0 0 24 24\"\n",
              "     width=\"24px\">\n",
              "    <g>\n",
              "        <path d=\"M19 3H5c-1.1 0-2 .9-2 2v14c0 1.1.9 2 2 2h14c1.1 0 2-.9 2-2V5c0-1.1-.9-2-2-2zM9 17H7v-7h2v7zm4 0h-2V7h2v10zm4 0h-2v-4h2v4z\"/>\n",
              "    </g>\n",
              "</svg>\n",
              "  </button>\n",
              "\n",
              "<style>\n",
              "  .colab-df-quickchart {\n",
              "    background-color: #E8F0FE;\n",
              "    border: none;\n",
              "    border-radius: 50%;\n",
              "    cursor: pointer;\n",
              "    display: none;\n",
              "    fill: #1967D2;\n",
              "    height: 32px;\n",
              "    padding: 0 0 0 0;\n",
              "    width: 32px;\n",
              "  }\n",
              "\n",
              "  .colab-df-quickchart:hover {\n",
              "    background-color: #E2EBFA;\n",
              "    box-shadow: 0px 1px 2px rgba(60, 64, 67, 0.3), 0px 1px 3px 1px rgba(60, 64, 67, 0.15);\n",
              "    fill: #174EA6;\n",
              "  }\n",
              "\n",
              "  [theme=dark] .colab-df-quickchart {\n",
              "    background-color: #3B4455;\n",
              "    fill: #D2E3FC;\n",
              "  }\n",
              "\n",
              "  [theme=dark] .colab-df-quickchart:hover {\n",
              "    background-color: #434B5C;\n",
              "    box-shadow: 0px 1px 3px 1px rgba(0, 0, 0, 0.15);\n",
              "    filter: drop-shadow(0px 1px 2px rgba(0, 0, 0, 0.3));\n",
              "    fill: #FFFFFF;\n",
              "  }\n",
              "</style>\n",
              "\n",
              "  <script>\n",
              "    async function quickchart(key) {\n",
              "      const charts = await google.colab.kernel.invokeFunction(\n",
              "          'suggestCharts', [key], {});\n",
              "    }\n",
              "    (() => {\n",
              "      let quickchartButtonEl =\n",
              "        document.querySelector('#df-d4ac48ac-2fd8-46fa-9913-2703ef97ea63 button');\n",
              "      quickchartButtonEl.style.display =\n",
              "        google.colab.kernel.accessAllowed ? 'block' : 'none';\n",
              "    })();\n",
              "  </script>\n",
              "</div>\n",
              "    </div>\n",
              "  </div>\n"
            ]
          },
          "metadata": {},
          "execution_count": 19
        }
      ]
    },
    {
      "cell_type": "code",
      "source": [
        "timestamp = get_time(prcp_urls[0])\n",
        "print(timestamp)"
      ],
      "metadata": {
        "colab": {
          "base_uri": "https://localhost:8080/"
        },
        "id": "sj6v48bP_mf-",
        "outputId": "a44b2f0a-4da4-4f79-b396-b4c9d8f99253"
      },
      "execution_count": null,
      "outputs": [
        {
          "output_type": "stream",
          "name": "stdout",
          "text": [
            "2023-08-23T07:00:02\n"
          ]
        }
      ]
    }
  ]
}